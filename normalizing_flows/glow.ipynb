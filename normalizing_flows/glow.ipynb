{
 "cells": [
  {
   "cell_type": "code",
   "execution_count": 1,
   "metadata": {},
   "outputs": [
    {
     "name": "stdout",
     "output_type": "stream",
     "text": [
      "env: OMP_NUM_THREADS=8\n"
     ]
    }
   ],
   "source": [
    "%load_ext autoreload\n",
    "\n",
    "%autoreload 2\n",
    "%env OMP_NUM_THREADS=8"
   ]
  },
  {
   "cell_type": "code",
   "execution_count": 2,
   "metadata": {},
   "outputs": [],
   "source": [
    "import sys, os, glob\n",
    "sys.path += ['.']"
   ]
  },
  {
   "cell_type": "code",
   "execution_count": 3,
   "metadata": {},
   "outputs": [],
   "source": [
    "import tensorflow as tf\n",
    "import tensorflow_probability as tfp\n",
    "import numpy as np\n",
    "from flows.glow import GlowFlow\n",
    "from flows.invert import Invert\n",
    "from flows.glow.affine_coupling import coupling_nn_glow\n",
    "from flows.glow.gaussianize import gaussianize\n",
    "from models.flvm import FlowLVM\n",
    "\n",
    "import matplotlib.pyplot as plt\n",
    "import h5py\n",
    "from matplotlib.colors import LogNorm, SymLogNorm"
   ]
  },
  {
   "cell_type": "code",
   "execution_count": 4,
   "metadata": {},
   "outputs": [],
   "source": [
    "os.environ['TF_CPP_MIN_LOG_LEVEL'] = '3'\n",
    "tf.get_logger().setLevel('ERROR')\n",
    "tf.autograph.set_verbosity(3)"
   ]
  },
  {
   "cell_type": "code",
   "execution_count": 5,
   "metadata": {},
   "outputs": [],
   "source": [
    "dset_dir = '/home/cluster/hlasco/bulk1/GAN_dataset/'\n",
    "fList_t  = glob.glob(dset_dir+'/train/*/processed_data/snapshot.h5')\n",
    "fList_v  = glob.glob(dset_dir+'/validation/*/processed_data/snapshot.h5')\n",
    "nFiles_t = len(fList_t)\n",
    "\n",
    "ps_h = 64\n",
    "ps_l = ps_h//4\n",
    "\n",
    "# read .h5 file\n",
    "def readH5(f, n_channels=4):\n",
    "    f = f.numpy()\n",
    "    idx = np.random.randint(0,4)\n",
    "    idy = np.random.randint(0,4)\n",
    "    idz = np.random.randint(0,4)\n",
    "    with h5py.File(f, 'r') as fi:\n",
    "        u_hr = np.array(fi['HR/ux'][idx*ps_h:(idx+1)*ps_h,idy*ps_h:(idy+1)*ps_h,idz*ps_h:(idz+1)*ps_h], dtype=np.float32).reshape(ps_h,ps_h,ps_h,1)\n",
    "        u_lr = np.array(fi['LR/ux'][idx*ps_l:(idx+1)*ps_l,idy*ps_l:(idy+1)*ps_l,idz*ps_l:(idz+1)*ps_l], dtype=np.float32).reshape(ps_l,ps_l,ps_l,1)\n",
    "        v_hr = np.array(fi['HR/uy'][idx*ps_h:(idx+1)*ps_h,idy*ps_h:(idy+1)*ps_h,idz*ps_h:(idz+1)*ps_h], dtype=np.float32).reshape(ps_h,ps_h,ps_h,1)\n",
    "        v_lr = np.array(fi['LR/uy'][idx*ps_l:(idx+1)*ps_l,idy*ps_l:(idy+1)*ps_l,idz*ps_l:(idz+1)*ps_l], dtype=np.float32).reshape(ps_l,ps_l,ps_l,1)\n",
    "        w_hr = np.array(fi['HR/uz'][idx*ps_h:(idx+1)*ps_h,idy*ps_h:(idy+1)*ps_h,idz*ps_h:(idz+1)*ps_h], dtype=np.float32).reshape(ps_h,ps_h,ps_h,1)\n",
    "        w_lr = np.array(fi['LR/uz'][idx*ps_l:(idx+1)*ps_l,idy*ps_l:(idy+1)*ps_l,idz*ps_l:(idz+1)*ps_l], dtype=np.float32).reshape(ps_l,ps_l,ps_l,1)\n",
    "        r_hr = np.array(fi['HR/rho'][idx*ps_h:(idx+1)*ps_h,idy*ps_h:(idy+1)*ps_h,idz*ps_h:(idz+1)*ps_h], dtype=np.float32).reshape(ps_h,ps_h,ps_h,1)\n",
    "        r_lr = np.array(fi['LR/rho'][idx*ps_l:(idx+1)*ps_l,idy*ps_l:(idy+1)*ps_l,idz*ps_l:(idz+1)*ps_l], dtype=np.float32).reshape(ps_l,ps_l,ps_l,1)\n",
    "\n",
    "        m_vel = np.mean([u_lr, v_lr, w_lr])\n",
    "        s_vel = np.std([u_lr, v_lr, w_lr])\n",
    "\n",
    "        r_hr = np.log10(r_hr)\n",
    "        r_lr = np.log10(r_lr)\n",
    "\n",
    "        m_r = np.mean(r_lr)\n",
    "        s_r = np.std(r_lr)\n",
    "\n",
    "        u_hr = (u_hr - np.mean(u_lr))/np.std(u_lr)\n",
    "        u_lr = (u_lr - np.mean(u_lr))/np.std(u_lr)\n",
    "\n",
    "        v_hr = (v_hr - np.mean(v_lr))/np.std(v_lr)\n",
    "        v_lr = (v_lr - np.mean(v_lr))/np.std(v_lr)\n",
    "\n",
    "        w_hr = (w_hr - np.mean(w_lr))/np.std(w_lr)\n",
    "        w_lr = (w_lr - np.mean(w_lr))/np.std(w_lr)\n",
    "\n",
    "        r_hr = (r_hr - m_r)/s_r\n",
    "        r_lr = (r_lr - m_r)/s_r\n",
    "\n",
    "        ret_lr = np.concatenate((u_lr, v_lr, w_lr, r_lr), axis=-1)\n",
    "        if n_channels==4:\n",
    "            ret_hr = np.concatenate((u_hr, v_hr, w_hr, r_hr), axis=-1)\n",
    "        elif n_channels==3:\n",
    "            ret_hr = np.concatenate((u_hr, v_hr, w_hr), axis=-1)\n",
    "        elif n_channels==1:\n",
    "            ret_hr = r_hr\n",
    "        return ret_lr, ret_hr \n",
    "\n",
    "\n",
    "\n",
    "def readH5_wrapper(filename, n_channels=4):\n",
    "    # Assuming your data and labels are float32\n",
    "    # Your input is parse_function, who arg is filename, and you get X and y as output\n",
    "    # whose datatypes are indicated by the tuple argument\n",
    "    lr, hr = tf.py_function(readH5, [filename, n_channels], (tf.float32, tf.float32))\n",
    "    return hr, lr\n",
    "\n",
    "batch_size = 1\n",
    "n_channels = 1\n",
    "# Create dataset of filenames.\n",
    "X_train_ds = tf.data.Dataset.from_tensor_slices(fList_t)\n",
    "X_train_ds = X_train_ds.map(lambda x: readH5_wrapper(x, n_channels=n_channels))\n",
    "X_train_ds = X_train_ds.batch(batch_size).repeat()"
   ]
  },
  {
   "cell_type": "code",
   "execution_count": 6,
   "metadata": {},
   "outputs": [],
   "source": [
    "iterator = iter(X_train_ds)"
   ]
  },
  {
   "cell_type": "code",
   "execution_count": 7,
   "metadata": {},
   "outputs": [
    {
     "name": "stdout",
     "output_type": "stream",
     "text": [
      "(1, 16, 16, 16, 4) (1, 64, 64, 64, 1)\n"
     ]
    }
   ],
   "source": [
    "hr, lr = iterator.get_next()\n",
    "print(lr.shape, hr.shape)"
   ]
  },
  {
   "cell_type": "code",
   "execution_count": 90,
   "metadata": {},
   "outputs": [
    {
     "name": "stdout",
     "output_type": "stream",
     "text": [
      "(None, None, None, None, 16)\n",
      "(None, None, None, 16)\n",
      "(None, None, None, None, 64)\n",
      "(None, None, None, 64)\n",
      "(None, None, None, None, 512)\n",
      "(None, None, None, 512)\n"
     ]
    }
   ],
   "source": [
    "n_channels=4\n",
    "dim=3\n",
    "kwargs_nn={'dim':dim, 'min_filters':8, 'max_filters':128, 'num_blocks':0}\n",
    "\n",
    "affine_coupling = coupling_nn_glow(**kwargs_nn)\n",
    "inpt_shape = tf.TensorShape((None,None,None,None,n_channels))\n",
    "\n",
    "glow = Invert(GlowFlow(\n",
    "                   dim=dim,\n",
    "                   upfactor=2,\n",
    "                   num_layers=3,\n",
    "                   depth=1,\n",
    "                   coupling_nn_ctor=affine_coupling))\n",
    "\n",
    "learning_rate = 2.0e-4\n",
    "prior = tfp.distributions.Normal(loc=0.0, scale=1.0)\n",
    "opt_flow = tf.keras.optimizers.Adam(learning_rate=learning_rate)\n",
    "model_8_128_rho = FlowLVM(glow, prior,\n",
    "                dim=dim,\n",
    "                num_bins=16,\n",
    "                input_channels=n_channels,\n",
    "                optimizer_flow=opt_flow)\n",
    "\n"
   ]
  },
  {
   "cell_type": "code",
   "execution_count": 91,
   "metadata": {},
   "outputs": [
    {
     "name": "stdout",
     "output_type": "stream",
     "text": [
      "tf.Tensor(4592768, shape=(), dtype=int32)\n"
     ]
    }
   ],
   "source": [
    "print(model_8_128_rho.param_count())"
   ]
  },
  {
   "cell_type": "code",
   "execution_count": 92,
   "metadata": {},
   "outputs": [
    {
     "name": "stdout",
     "output_type": "stream",
     "text": [
      "Testing individual layers:\n",
      "Testing glow_flow_layer0_squeeze\n",
      "\t passed\n",
      "\t Num params: 0\n",
      "Testing glow_flow_layer0_step0_act_norm\n",
      "\tError on forward inverse pass:\n",
      "\t\tx-F^{-1}oF(x): 5.532339e-10\n",
      "\t\tildj+fldj: 0.0\n",
      "\t passed\n",
      "\t Num params: tf.Tensor(64, shape=(), dtype=int32)\n",
      "Testing glow_flow_layer0_step0_inv_conv\n",
      "\tError on forward inverse pass:\n",
      "\t\tx-F^{-1}oF(x): -8.531895e-10\n",
      "\t\tildj+fldj: 0.0\n",
      "\t passed\n",
      "\t Num params: tf.Tensor(3136, shape=(), dtype=int32)\n",
      "Testing glow_flow_layer0_step0_affine_coupling\n",
      "\tError on forward inverse pass:\n",
      "\t\tx-F^{-1}oF(x): 0.0\n",
      "\t\tildj+fldj: 0.0\n",
      "\t passed\n",
      "\t Num params: tf.Tensor(7104, shape=(), dtype=int32)\n",
      "Testing glow_flow_layer0_split\n",
      "\t passed\n",
      "\t Num params: 138400\n",
      "Testing glow_flow_layer1_squeeze\n",
      "\t passed\n",
      "\t Num params: 0\n",
      "Testing glow_flow_layer1_step0_act_norm\n",
      "\tError on forward inverse pass:\n",
      "\t\tx-F^{-1}oF(x): 7.115057e-10\n",
      "\t\tildj+fldj: 0.0\n",
      "\t passed\n",
      "\t Num params: tf.Tensor(256, shape=(), dtype=int32)\n",
      "Testing glow_flow_layer1_step0_inv_conv\n",
      "\tError on forward inverse pass:\n",
      "\t\tx-F^{-1}oF(x): -4.0992414e-09\n",
      "\t\tildj+fldj: 0.0\n",
      "\t passed\n",
      "\t Num params: tf.Tensor(49408, shape=(), dtype=int32)\n",
      "Testing glow_flow_layer1_step0_affine_coupling\n",
      "\tError on forward inverse pass:\n",
      "\t\tx-F^{-1}oF(x): 0.0\n",
      "\t\tildj+fldj: 0.0\n",
      "\t passed\n",
      "\t Num params: tf.Tensor(56544, shape=(), dtype=int32)\n",
      "Testing glow_flow_layer1_split\n",
      "\t passed\n",
      "\t Num params: 387328\n",
      "Testing glow_flow_layer2_squeeze\n",
      "\t passed\n",
      "\t Num params: 0\n",
      "Testing glow_flow_layer2_step0_act_norm\n",
      "\tError on forward inverse pass:\n",
      "\t\tx-F^{-1}oF(x): 1.13864695e-10\n",
      "\t\tildj+fldj: 0.0\n",
      "\t passed\n",
      "\t Num params: tf.Tensor(1024, shape=(), dtype=int32)\n",
      "Testing glow_flow_layer2_step0_inv_conv\n",
      "\tError on forward inverse pass:\n",
      "\t\tx-F^{-1}oF(x): 2.1189007e-07\n",
      "\t\tildj+fldj: 0.0\n",
      "\t passed\n",
      "\t Num params: tf.Tensor(787456, shape=(), dtype=int32)\n",
      "Testing glow_flow_layer2_step0_affine_coupling\n",
      "\tError on forward inverse pass:\n",
      "\t\tx-F^{-1}oF(x): 0.0\n",
      "\t\tildj+fldj: 0.0\n",
      "\t passed\n",
      "\t Num params: tf.Tensor(451392, shape=(), dtype=int32)\n",
      "Testing gaussianize\n",
      "\tError on forward inverse pass:\n",
      "\t\tx-F^{-1}oF(x): 0.0\n",
      "\t\tildj+fldj: 0.0\n",
      "\t passed\n",
      "Testing full model:\n",
      "\tError on forward inverse pass:\n",
      "\t\tx-F^{-1}oF(x): 6.176659e-08\n",
      "\t\tildj+fldj: 0.0\n",
      "\tpassed\n"
     ]
    }
   ],
   "source": [
    "model_8_128_rho.test(shape=32)"
   ]
  },
  {
   "cell_type": "code",
   "execution_count": 93,
   "metadata": {},
   "outputs": [],
   "source": [
    "test = model_8_128_rho.sample(n=1, shape=64)"
   ]
  },
  {
   "cell_type": "code",
   "execution_count": 94,
   "metadata": {},
   "outputs": [
    {
     "name": "stdout",
     "output_type": "stream",
     "text": [
      "(1, 64, 64, 64, 4)\n"
     ]
    }
   ],
   "source": [
    "print(test.shape)"
   ]
  },
  {
   "cell_type": "code",
   "execution_count": 82,
   "metadata": {},
   "outputs": [
    {
     "data": {
      "text/plain": [
       "[8, None]"
      ]
     },
     "execution_count": 82,
     "metadata": {},
     "output_type": "execute_result"
    }
   ],
   "source": [
    "fwd_s([16,None],2)"
   ]
  },
  {
   "cell_type": "code",
   "execution_count": 89,
   "metadata": {},
   "outputs": [
    {
     "name": "stdout",
     "output_type": "stream",
     "text": [
      "[2, 1, 4, 1, 6, 1]\n"
     ]
    }
   ],
   "source": [
    "a=[2,4,6]\n",
    "for b in range (0,len(a)):\n",
    "    a.insert(b*2+1,1)\n",
    "print(a)"
   ]
  },
  {
   "cell_type": "code",
   "execution_count": null,
   "metadata": {},
   "outputs": [],
   "source": []
  }
 ],
 "metadata": {
  "kernelspec": {
   "display_name": "Python 3",
   "language": "python",
   "name": "python3"
  },
  "language_info": {
   "codemirror_mode": {
    "name": "ipython",
    "version": 3
   },
   "file_extension": ".py",
   "mimetype": "text/x-python",
   "name": "python",
   "nbconvert_exporter": "python",
   "pygments_lexer": "ipython3",
   "version": "3.8.5"
  }
 },
 "nbformat": 4,
 "nbformat_minor": 4
}
